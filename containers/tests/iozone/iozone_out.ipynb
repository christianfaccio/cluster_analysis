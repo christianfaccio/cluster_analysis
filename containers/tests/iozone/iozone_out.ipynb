{
 "cells": [
  {
   "cell_type": "code",
   "execution_count": 4,
   "metadata": {},
   "outputs": [
    {
     "name": "stdout",
     "output_type": "stream",
     "text": [
      "Saved plot for write to results/write_performance_plot.png\n",
      "Saved plot for rewrite to results/rewrite_performance_plot.png\n",
      "Saved plot for read to results/read_performance_plot.png\n",
      "Saved plot for reread to results/reread_performance_plot.png\n",
      "Saved plot for random_read to results/random_read_performance_plot.png\n",
      "Saved plot for random_write to results/random_write_performance_plot.png\n"
     ]
    }
   ],
   "source": [
    "import pandas as pd \n",
    "import matplotlib.pyplot as plt\n",
    "from mpl_toolkits.mplot3d import Axes3D\n",
    "import numpy as np\n",
    "import os\n",
    "\n",
    "# Load the iozone data\n",
    "iozone_data = pd.read_csv('iozone_out.csv')\n",
    "iozone_data = iozone_data.dropna()\n",
    "\n",
    "# setting col names\n",
    "iozone_data.columns = [\n",
    "    \"kB\", \"reclen\", \"write\", \"rewrite\", \"read\", \"reread\",\n",
    "    \"random_read\", \"random_write\", \"bkwd_read\", \"record_rewrite\", \"stride_read\",\n",
    "    \"fwrite\", \"frewrite\", \"fread\", \"freread\"\n",
    "]\n",
    "\n",
    "# List of performance variables to plot\n",
    "performance_vars = ['write', 'rewrite', 'read', 'reread', 'random_read', 'random_write']\n",
    "\n",
    "# Ensure the 'results' directory exists\n",
    "os.makedirs('results', exist_ok=True)\n",
    "\n",
    "# Loop through each performance variable and create a 3D plot\n",
    "for var in performance_vars:\n",
    "    # Check if the variable exists in the iozone_dataset\n",
    "    if var in iozone_data.columns:\n",
    "        # Create a pivot table for the performance variable\n",
    "        pivot_table = iozone_data.pivot_table(index='reclen', columns='kB', values=var)\n",
    "\n",
    "        # Convert the pivot table to a numpy array\n",
    "        Z = pivot_table.values\n",
    "\n",
    "        # Create a meshgrid for plotting\n",
    "        Y, X = np.meshgrid(pivot_table.columns, pivot_table.index)\n",
    "\n",
    "        # Create the plot\n",
    "        fig = plt.figure()\n",
    "        ax = fig.add_subplot(111, projection='3d')\n",
    "\n",
    "        # Surface plot\n",
    "        surf = ax.plot_surface(X, Y, Z, cmap='viridis', edgecolor='none')\n",
    "\n",
    "        # Set labels\n",
    "        ax.set_ylabel('kB')\n",
    "        ax.set_xlabel('Record Length (reclen)')\n",
    "        ax.set_zlabel(f'{var.capitalize()} Throughput')\n",
    "\n",
    "        # Show color bar\n",
    "        fig.colorbar(surf)\n",
    "\n",
    "        # Set title\n",
    "        ax.set_title(f'{var.capitalize()} Performance')\n",
    "\n",
    "        # Save the plot to the 'results' folder\n",
    "        plot_filename = f'results/{var}_performance_plot.png'\n",
    "        plt.savefig(plot_filename)\n",
    "\n",
    "        # Close the plot to avoid memory issues\n",
    "        plt.close(fig)\n",
    "\n",
    "        print(f'Saved plot for {var} to {plot_filename}')"
   ]
  },
  {
   "cell_type": "code",
   "execution_count": null,
   "metadata": {},
   "outputs": [],
   "source": []
  }
 ],
 "metadata": {
  "kernelspec": {
   "display_name": "Python 3",
   "language": "python",
   "name": "python3"
  },
  "language_info": {
   "codemirror_mode": {
    "name": "ipython",
    "version": 3
   },
   "file_extension": ".py",
   "mimetype": "text/x-python",
   "name": "python",
   "nbconvert_exporter": "python",
   "pygments_lexer": "ipython3",
   "version": "3.12.6"
  }
 },
 "nbformat": 4,
 "nbformat_minor": 2
}
